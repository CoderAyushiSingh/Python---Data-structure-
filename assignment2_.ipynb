{
  "nbformat": 4,
  "nbformat_minor": 0,
  "metadata": {
    "colab": {
      "provenance": []
    },
    "kernelspec": {
      "name": "python3",
      "display_name": "Python 3"
    },
    "language_info": {
      "name": "python"
    }
  },
  "cells": [
    {
      "cell_type": "markdown",
      "source": [
        "# DATA TYPE AND STRUCTURES OF PYTHON (BASIC QUESTIONS)\n",
        "\n",
        "#1.  What are data structures, and why are they important?\n",
        "     - Data structures are specialized formats for organizing, storing, and accessing collections of data. They provide efficient ways to manage information based on its characteristics and intended use.\n",
        "\n",
        "     They are important because:\n",
        "    a) It conserves memory usage.\n",
        "    b) It Simplifies data manipulation (adding, removing, modifying elements)\n",
        "    c) Choosing the right data structure significantly impacts the efficiency and performance of your program.\n",
        "    d) It Optimizes searching and sorting operations.\n",
        "\n",
        "# 2. Explain the difference between mutable and immutable data types with examples.\n",
        "    - MUTABLE DATA TYPE = It can be changed or modified after creation. We can add, update, or delete elements.\n",
        "    eg. list\n",
        "        dict\n",
        "        set\n",
        "      \n",
        "    - IMMUTABLE DATA TYPE = It cannot be changed after they are created. Any update creates a new object in memory.    \n",
        "\n",
        "    eg. int\n",
        "        float\n",
        "        str (string)\n",
        "        tuple\n",
        "        bool(boolean)\n",
        "\n",
        "# 3. What are the main differences between lists and tuples in Python?\n",
        "    -LISTS = Ordered, mutable collections of elements. Think of shopping lists or task lists. Lists can hold items of various data types (numbers, strings, even other lists!).\n",
        "    we can add, remove, or modify elements within a list using indexing and slicing. Lists are versatile for storing and managing collections that might change.\n",
        "\n",
        "    TUPLES =  Ordered, immutable collections of elements, similar to lists. However, once created, the items in a tuple cannot be changed. They provide a secure way to store data that shouldn't be modified.\n",
        "    You can access elements using indexing and slicing, but you cannot modify the content. Tuples are useful for representing fixed datasets or configurations.\n",
        "\n",
        "# 4. Describe how dictionaries store data?\n",
        "   - A dictionary in Python is a collection of key-value pairs. Each key is unique and maps to a value.\n",
        "   \n",
        "\n",
        "\n",
        "\n"
      ],
      "metadata": {
        "id": "L4uPInzdu8pD"
      }
    },
    {
      "cell_type": "code",
      "source": [
        "my_dict =  {\"name\": \"Ayushi\",\n",
        "    \"age\": 21,\n",
        "    \"city\": \"Lucknow\"}\n",
        "print(my_dict)\n",
        "\n",
        "\n",
        "#Here:\n",
        "\"name\", \"age\", and \"city\" are keys.\n",
        "\"Ayushi\", 21, and \"Lucknow\" are values."
      ],
      "metadata": {
        "colab": {
          "base_uri": "https://localhost:8080/"
        },
        "id": "G8YYQiPt3zU0",
        "outputId": "05e45bf5-0e2e-4441-936d-2d0a463fa845"
      },
      "execution_count": null,
      "outputs": [
        {
          "output_type": "stream",
          "name": "stdout",
          "text": [
            "{'name': 'Ayushi', 'age': 21, 'city': 'Lucknow'}\n"
          ]
        }
      ]
    },
    {
      "cell_type": "markdown",
      "source": [
        "# 5. Why might you use a set instead of a list in Python?\n",
        "    - A set is a collection of unique and unordered elements, while a list is an ordered collection that allows duplicates.\n",
        "\n",
        "    Main reason of why we use set instead of a list\n",
        "    i) To Automatically Remove Duplicates = Sets automatically keep only unique items.\n",
        "    ii) Faster Membership Testing = Sets use hashing, making lookups much faster than in lists.\n",
        "    iii) Set perform different operations like union , intersection, difference, which is great for comaring and filtering data.\n",
        "     "
      ],
      "metadata": {
        "id": "bbZCkrq74QAx"
      }
    },
    {
      "cell_type": "markdown",
      "source": [
        "# 6. What is a string in Python, and how is it different from a list?\n",
        "    - Strings = Characters arranged in an unchangeable order. Consider writing a sentence, a paragraph, or a piece of material. Each character in the string can be accessed by its index, or position. Substrings can be extracted using slicing. Strings can be joined together and altered using a variety of techniques (find, replace, etc.).\n",
        "\n",
        "    i) Use a string when working with text that won’t change.\n",
        "    ii) Use a list when you need a flexible collection of items that can be modified.\n",
        "\n",
        "# 7. How do tuples ensure data integrity in Python?\n",
        "    - A tuple is an ordered, immutable collection of elements.\n",
        "      Tuples Help Ensure Data Integrity as we cannot\n",
        "    i) change an item\n",
        "    ii) add an item\n",
        "    iii) remove an item\n",
        "    This protects the data from being accidentally modified.\n",
        "    Since tuples are immutable, they can be used as dictionary keys, unlike lists.\n",
        "    This helps in building reliable key-value pairs.\n",
        "\n",
        "# 8. What is a hash table, and how does it relate to dictionaries in Python?\n",
        "     - A hash table is a data structure that stores key-value pairs using       a special function called a hash function.\n",
        "    i)It converts each key into a hash value (a number).\n",
        "    ii)That number decides where to store the key-value pair in memory.\n",
        "    iii)This makes data lookup very fast, usually in constant time.\n",
        "\n",
        "    This happens behind the scenes:\n",
        "    Python hashes each key (e.g., \"name\", \"age\").\n",
        "    Stores the value (\"Ayushi\", 21) at a memory location decided by the hash.When you do student[\"age\"], Python:\n",
        "    Hashes \"age\"\n",
        "    Finds the memory slot\n",
        "    Returns 21\n",
        "\n",
        "# 9. Can lists contain different data types in Python?\n",
        "    - Yes!\n",
        "     In Python, lists can contain elements of different data types in the same list. This is one of the flexible features of Python lists.\n",
        "\n",
        "     Python is dynamically typed, so each element in a list is just a reference to an object — it doesn't require all elements to be of the same type.\n",
        "\n",
        "     In this list:\n",
        "\n",
        "     i) 10 → Integer\n",
        "     ii) \"Ayushi\" → String\n",
        "     ii)  3.14 → Float\n",
        "     iv)  True → Boolean\n",
        "      v) [1, 2, 3] → Another List\n",
        "\n",
        "# 10.  Explain why strings are immutable in Python?\n",
        "    - An immutable object cannot be changed after it is created.\n",
        "    For strings, this means you cannot change individual characters or modify the original string directly.\n",
        "    Python reuses identical strings in memory (called string interning) to save space.\n",
        "    If strings were mutable, this reuse would become risky — changing a could unexpectedly change b.\n",
        "    Since strings are often used for keys in dictionaries or data identifiers, making them immutable ensures they don't get changed accidentally.\n",
        "\n",
        "# 11.  What advantages do dictionaries offer over lists for certain tasks?\n",
        "    - Dictionaries and lists are both powerful, but they serve different purposes.\n",
        "    More Meaningful Data Access:\n",
        "    i) Keys in dictionaries make the data self-explanatory.\n",
        "    ii) Lists only use positions (index numbers), which are not meaningful.\n",
        "    Flexible Key-Value Pairing:\n",
        "    i) You can map any value to a unique key, which is great for storing related data.\n",
        "    ii) In lists, you can only store values sequentially.\n",
        "    No Need to Remember Indexes:\n",
        "    i) With dictionaries, you don’t need to remember the position of data.\n",
        "    ii) With lists, accessing data depends on remembering the right index.\n",
        "\n",
        "# 12. Describe a scenario where using a tuple would be preferable over a list?  \n",
        "    - Tuple is ordered and immutable collection of elements, whereas lists are mutable. we can change, add or remove elements from list but can't change, add or remove from tuples.\n",
        "    AS touples provide secure way to store data that shouldn't be modified by someone.\n",
        "    Imagine we are building a program that deals with map locations. Each location has a fixed latitude and longitude. Since these values should not be modified accidentally, a tuple is the better choice.\n",
        "\n",
        "# 13. How do sets handle duplicate values in Python?    \n",
        "    - Set is and unordered collection of unique elements. The order doesn't matter, and duplicate entries are not allowed.\n",
        "     You can add or remove elements from a set, but you cannot access elements by index (since order doesn't matter). Set operations like union (combining elements), intersection (finding common elements), and difference (finding elements in one set but not the other) are efficient.\n",
        "\n",
        "# 14. How does the “in” keyword work differently for lists and dictionaries?\n",
        "     -The \"in\" keyword is used to check for membership, but it works differently for lists and dictionaries in python\n",
        "    IN LISTS >> in checks whether a value exists in the list. It looks at the elements (values) inside the list.\n",
        "    IN DICTIONARIES >> in only checks the keys not values. It checks if the key exists, not the value.\n",
        "\n",
        "# 15. Can you modify the elements of a tuple? Explain why or why not?\n",
        "\n",
        "     - NO! we cannot modify the elements of a touple as it is immutable which means we cannot change, add or remove elements from the touple.\n",
        "     We can access elements using slicing or indexing, but we cannot modify the content.\n",
        "      Tuples are useful for representing fixed datasets or configurations.\n",
        "      However, once created, the items in a tuple cannot be changed. They provide a secure way to store data that shouldn't be modified.\n",
        "\n",
        "# 16.  What is a nested dictionary, and give an example of its use case?\n",
        "    -A nested dictionary is a dictionary inside another dictionary.\n",
        "    It allows you to store structured data in a hierarchical form — like a dictionary of dictionaries.\n",
        "\n",
        "    Use Case: School Management System\n",
        "\n",
        "    A nested dictionary is useful when:\n",
        "    You're managing data of multiple students, employees, products, etc.\n",
        "    Each item (like a student) has multiple attributes (name, age, grade, etc.)\n",
        "\n",
        "# 17. Describe the time complexity of accessing elements in a dictionary?\n",
        "    -  In Python, dictionaries are implemented using hash tables, which makes  them very fast for accessing elements. Because Python uses the hash value of the key to directly jump to the location in memory, so it doesn't need to search through every item.\n",
        "    In rare situations like:\n",
        "    Hash collisions (many keys hashing to the same index)\n",
        "    Very high load factor (too many elements)\n",
        "    In such cases, the dictionary may need to search through multiple items at one hash index.\n",
        "\n",
        "# 18. In what situations are lists preferred over dictionaries?\n",
        "    - Lists and dictionaries serve different purposes.\n",
        "    Lists maintain the order of elements, and we can access items by their position(index).\n",
        "    If your data doesn’t need labels (keys) and can be managed as just a sequence of items, lists are simpler.\n",
        "    Lists are ideal for looping through items in order.\n",
        "\n",
        "    This is common in tasks like filtering, sorting, and mapping.\n",
        "    i) Lists allow duplicate values, unlike dictionary keys.\n",
        "    ii) Lists typically use less memory than dictionaries since dictionaries store both keys and values and have internal hashing mechanisms.\n",
        "\n",
        "# 19. Why are dictionaries considered unordered, and how does that affect data retrieval?\n",
        "     - Dictionaries used to be considered  unordered before.\n",
        "    Before, dictionaries didi not guarantee the order in which key-value pairs were stored or retrieved.\n",
        "\n",
        "    i) Dictionaries are implemented using hash tables,where each key is hashed and stored in a non-linear fashion.\n",
        "    ii) The internal storage depends on the hash value, collisions, and resizing, which may change the order unexpectedly.\n",
        "\n",
        "    NOWADAYS, dictionaries preserve insertion order as an official language feature.\n",
        "    Even though they preserve order now, dictionaries are still referred to as unordered in many explanations because:\n",
        "    i) Conceptually, dictionary lookups are based on keys, not position.\n",
        "    ii) You can't access values by index, like in a list:\n",
        "\n",
        "# 20. Explain the difference between a list and a dictionary in terms of data retrieval.\n",
        "    - The main difference between a list and a dictionary in terms of data retrieval lies in how you access the data:\n",
        "    LIST-:\n",
        "    i) A list is an ordered collection.\n",
        "    ii) We access elements using their position(index), starting from 0.\n",
        "    iii) It is good when order matters but not suitable for labeled data.\n",
        "\n",
        "    DICTIONAY-:\n",
        "    i) A dicitonary is a key-value collection.\n",
        "    ii) We access data using a key (not position).\n",
        "    iii) It is best for looking up values by unique identifiers but can't access items by index like in a list.\n",
        "\n",
        "\n",
        "\n",
        "   "
      ],
      "metadata": {
        "id": "hMkj6T0u4j36"
      }
    },
    {
      "cell_type": "markdown",
      "source": [
        "# DATA STRUCTURE AND TYPE (PRACTICAL QUESTIONS)\n"
      ],
      "metadata": {
        "id": "lR8VPT0sZBtP"
      }
    },
    {
      "cell_type": "markdown",
      "source": [
        "# 1. Write a code to create a string with your name and print it.\n"
      ],
      "metadata": {
        "id": "l3S7EbEHZxGl"
      }
    },
    {
      "cell_type": "code",
      "source": [
        "name = \"ayushi\"\n",
        "print(name)"
      ],
      "metadata": {
        "id": "leLTAa9F4Pc3",
        "colab": {
          "base_uri": "https://localhost:8080/"
        },
        "outputId": "48406349-8308-4a70-eb0a-b883e7fc11fb"
      },
      "execution_count": null,
      "outputs": [
        {
          "output_type": "stream",
          "name": "stdout",
          "text": [
            "ayushi\n"
          ]
        }
      ]
    },
    {
      "cell_type": "markdown",
      "source": [
        "# 2. Write a code to find the length of the string \"Hello World\".\n"
      ],
      "metadata": {
        "id": "c2DT_kEhaNtG"
      }
    },
    {
      "cell_type": "code",
      "execution_count": null,
      "metadata": {
        "id": "-jGkCW_KrgH1",
        "colab": {
          "base_uri": "https://localhost:8080/"
        },
        "outputId": "199636b7-d3dc-4041-98cc-b930094bffd2"
      },
      "outputs": [
        {
          "output_type": "stream",
          "name": "stdout",
          "text": [
            "11\n"
          ]
        }
      ],
      "source": [
        "n=\"Hello World\"\n",
        "print(len(n))"
      ]
    },
    {
      "cell_type": "markdown",
      "source": [
        "# 3. Write a code to slice the first 3 characters from the string \"Python Programming\"."
      ],
      "metadata": {
        "id": "g-lq3w5x4Mik"
      }
    },
    {
      "cell_type": "code",
      "source": [
        "name = \"pwskills\"\n",
        "print(name[0:3])"
      ],
      "metadata": {
        "colab": {
          "base_uri": "https://localhost:8080/"
        },
        "id": "3rIShy_7alTI",
        "outputId": "289503d7-241f-4944-a602-4d067544f6dc"
      },
      "execution_count": null,
      "outputs": [
        {
          "output_type": "stream",
          "name": "stdout",
          "text": [
            "pws\n"
          ]
        }
      ]
    },
    {
      "cell_type": "markdown",
      "source": [
        "# 4. Write a code to convert the string \"hello\" to uppercase.\n"
      ],
      "metadata": {
        "id": "aRAAB1Oku6d7"
      }
    },
    {
      "cell_type": "code",
      "source": [
        "n = \"hello\"\n",
        "print(n.upper())"
      ],
      "metadata": {
        "colab": {
          "base_uri": "https://localhost:8080/"
        },
        "id": "9c9l7bgoa0ik",
        "outputId": "ed0bd0d0-3d03-47fd-8b4f-7baeb4effe7d"
      },
      "execution_count": null,
      "outputs": [
        {
          "output_type": "stream",
          "name": "stdout",
          "text": [
            "HELLO\n"
          ]
        }
      ]
    },
    {
      "cell_type": "markdown",
      "source": [
        "# 5. Write a code to replace the word \"apple\" with \"orange\" in the string \"I like apple\".\n"
      ],
      "metadata": {
        "id": "86GHpG1Uu6wW"
      }
    },
    {
      "cell_type": "code",
      "source": [
        "fru = \"I like apple\"\n",
        "print(fru.replace(\"apple\",\"orange\"))"
      ],
      "metadata": {
        "colab": {
          "base_uri": "https://localhost:8080/"
        },
        "id": "oa5A4yA_bOpj",
        "outputId": "4a5a9d6a-334c-4692-8839-d8e03fc8bdd7"
      },
      "execution_count": null,
      "outputs": [
        {
          "output_type": "stream",
          "name": "stdout",
          "text": [
            "I like orange\n"
          ]
        }
      ]
    },
    {
      "cell_type": "markdown",
      "source": [
        "# 6.Write a code to create a list with numbers 1 to 5 and print it."
      ],
      "metadata": {
        "id": "T4o8zsySboWY"
      }
    },
    {
      "cell_type": "code",
      "source": [
        "lis = [1, 2, 3, 4, 5]\n",
        "print(lis)"
      ],
      "metadata": {
        "colab": {
          "base_uri": "https://localhost:8080/"
        },
        "id": "DPop9P1ube88",
        "outputId": "a0b9dd36-93d6-4c73-ede5-5415765afef8"
      },
      "execution_count": null,
      "outputs": [
        {
          "output_type": "stream",
          "name": "stdout",
          "text": [
            "[1, 2, 3, 4, 5]\n"
          ]
        }
      ]
    },
    {
      "cell_type": "markdown",
      "source": [
        "# 7. Write a code to append the number 10 to the list [1, 2, 3, 4].\n"
      ],
      "metadata": {
        "id": "l0AF8zd_cZlx"
      }
    },
    {
      "cell_type": "code",
      "source": [
        "num = [1,2,3,4]\n",
        "num.append(10)\n",
        "num"
      ],
      "metadata": {
        "colab": {
          "base_uri": "https://localhost:8080/"
        },
        "id": "AGiAXj6Zb0L3",
        "outputId": "633c2714-98b6-48ac-893d-654769fc0dc4"
      },
      "execution_count": null,
      "outputs": [
        {
          "output_type": "execute_result",
          "data": {
            "text/plain": [
              "[1, 2, 3, 4, 10]"
            ]
          },
          "metadata": {},
          "execution_count": 11
        }
      ]
    },
    {
      "cell_type": "markdown",
      "source": [
        "# 8. Write a code to remove the number 3 from the list [1, 2, 3, 4, 5].\n"
      ],
      "metadata": {
        "id": "2BVBjnZgdCOf"
      }
    },
    {
      "cell_type": "code",
      "source": [
        "lis = [1, 2, 3, 4, 5]\n",
        "lis.remove(3)\n",
        "lis"
      ],
      "metadata": {
        "colab": {
          "base_uri": "https://localhost:8080/"
        },
        "id": "ldh30jbtcmXX",
        "outputId": "c44feba0-f745-4b1b-c1f8-82584dc35e08"
      },
      "execution_count": null,
      "outputs": [
        {
          "output_type": "execute_result",
          "data": {
            "text/plain": [
              "[1, 2, 4, 5]"
            ]
          },
          "metadata": {},
          "execution_count": 12
        }
      ]
    },
    {
      "cell_type": "markdown",
      "source": [
        "# 9. Write a code to access the second element in the list ['a', 'b', 'c', 'd']."
      ],
      "metadata": {
        "id": "DnUtaKnwdRPK"
      }
    },
    {
      "cell_type": "code",
      "source": [
        "lis = ['a', 'b', 'c', 'd']\n",
        "lis[1]"
      ],
      "metadata": {
        "colab": {
          "base_uri": "https://localhost:8080/",
          "height": 36
        },
        "id": "cRd9WEQSdP29",
        "outputId": "d9c1572a-6cb1-4bba-d423-1a57e53754dd"
      },
      "execution_count": null,
      "outputs": [
        {
          "output_type": "execute_result",
          "data": {
            "text/plain": [
              "'b'"
            ],
            "application/vnd.google.colaboratory.intrinsic+json": {
              "type": "string"
            }
          },
          "metadata": {},
          "execution_count": 13
        }
      ]
    },
    {
      "cell_type": "markdown",
      "source": [
        "# 10. Write a code to reverse the list [10, 20, 30, 40, 50]."
      ],
      "metadata": {
        "id": "fCRAGLCmdm7O"
      }
    },
    {
      "cell_type": "code",
      "source": [
        "lis = [10, 20, 30, 40, 50]\n",
        "lis.reverse()\n",
        "lis"
      ],
      "metadata": {
        "colab": {
          "base_uri": "https://localhost:8080/"
        },
        "id": "oO54GAKTdll0",
        "outputId": "a1a35d53-0a6a-4442-aebb-56fb9da7c235"
      },
      "execution_count": null,
      "outputs": [
        {
          "output_type": "execute_result",
          "data": {
            "text/plain": [
              "[50, 40, 30, 20, 10]"
            ]
          },
          "metadata": {},
          "execution_count": 16
        }
      ]
    },
    {
      "cell_type": "markdown",
      "source": [
        "# 11. Write a code to create a tuple with the elements 100, 200, 300 and print it."
      ],
      "metadata": {
        "id": "X1qsjL4zd2rk"
      }
    },
    {
      "cell_type": "code",
      "source": [
        "my_tuple = (100, 200, 300)\n",
        "print(my_tuple)"
      ],
      "metadata": {
        "colab": {
          "base_uri": "https://localhost:8080/"
        },
        "id": "HcE99Z-ddyhd",
        "outputId": "4a7bb06e-3701-4684-fa9c-0541fbc34741"
      },
      "execution_count": null,
      "outputs": [
        {
          "output_type": "stream",
          "name": "stdout",
          "text": [
            "(100, 200, 300)\n"
          ]
        }
      ]
    },
    {
      "cell_type": "markdown",
      "source": [
        "# 12.  Write a code to access the second-to-last element of the tuple ('red', 'green', 'blue', 'yellow')."
      ],
      "metadata": {
        "id": "FHDJiFkieQxC"
      }
    },
    {
      "cell_type": "code",
      "source": [
        "my_tuple = ('red', 'green', 'blue', 'yellow')\n",
        "my_tuple[1:3]"
      ],
      "metadata": {
        "colab": {
          "base_uri": "https://localhost:8080/"
        },
        "id": "gc5InMc1eJSS",
        "outputId": "d79696c1-8d7f-4354-d1b5-3d16ce9a11cd"
      },
      "execution_count": null,
      "outputs": [
        {
          "output_type": "execute_result",
          "data": {
            "text/plain": [
              "('green', 'blue')"
            ]
          },
          "metadata": {},
          "execution_count": 20
        }
      ]
    },
    {
      "cell_type": "markdown",
      "source": [
        "# 13. Write a code to find the minimum number in the tuple (10, 20, 5, 15).\n",
        "\n"
      ],
      "metadata": {
        "id": "AvlNPaNEesBW"
      }
    },
    {
      "cell_type": "code",
      "source": [
        "my_tuple = (10, 20, 5, 15)\n",
        "minimum= min(my_tuple)\n",
        "minimum\n"
      ],
      "metadata": {
        "colab": {
          "base_uri": "https://localhost:8080/"
        },
        "id": "6egF5Inged-A",
        "outputId": "39974bdd-4751-4eb7-c0ec-2ecb31f1f935"
      },
      "execution_count": null,
      "outputs": [
        {
          "output_type": "execute_result",
          "data": {
            "text/plain": [
              "5"
            ]
          },
          "metadata": {},
          "execution_count": 24
        }
      ]
    },
    {
      "cell_type": "markdown",
      "source": [
        "# 14.  Write a code to find the index of the element \"cat\" in the tuple ('dog', 'cat', 'rabbit')."
      ],
      "metadata": {
        "id": "egJc80FPfbKa"
      }
    },
    {
      "cell_type": "code",
      "source": [
        "tuple = ('dog', 'cat', 'rabbit')\n",
        "tuple.index('cat')"
      ],
      "metadata": {
        "colab": {
          "base_uri": "https://localhost:8080/"
        },
        "id": "gKJfGuhVe_HH",
        "outputId": "4b92768a-28a9-44e4-d0f5-bce742cb3b4d"
      },
      "execution_count": null,
      "outputs": [
        {
          "output_type": "execute_result",
          "data": {
            "text/plain": [
              "1"
            ]
          },
          "metadata": {},
          "execution_count": 25
        }
      ]
    },
    {
      "cell_type": "markdown",
      "source": [
        "# 15.  Write a code to create a tuple containing three different fruits and check if \"kiwi\" is in it."
      ],
      "metadata": {
        "id": "mJHKWxQhfuuY"
      }
    },
    {
      "cell_type": "code",
      "source": [
        "fruits = (\"apple\", \"banana\", \"kiwi\")\n",
        "if \"kiwi\" in fruits:\n",
        "    print(\"yes\")\n",
        "else:\n",
        "    print(\"no\")"
      ],
      "metadata": {
        "colab": {
          "base_uri": "https://localhost:8080/"
        },
        "id": "2cftbfJqfmDx",
        "outputId": "731b5f18-0723-4271-d2ad-6def7dfc7d87"
      },
      "execution_count": null,
      "outputs": [
        {
          "output_type": "stream",
          "name": "stdout",
          "text": [
            "yes\n"
          ]
        }
      ]
    },
    {
      "cell_type": "markdown",
      "source": [
        "# 16.Write a code to create a set with the elements 'a', 'b', 'c' and print it."
      ],
      "metadata": {
        "id": "n6JAGxHngZ4V"
      }
    },
    {
      "cell_type": "code",
      "source": [
        "my_set = {'a','b','c'}\n",
        "my_set"
      ],
      "metadata": {
        "colab": {
          "base_uri": "https://localhost:8080/"
        },
        "id": "xmalBh-Nf9ZP",
        "outputId": "89e8321d-ea7c-4de5-e508-80d2405cf674"
      },
      "execution_count": null,
      "outputs": [
        {
          "output_type": "execute_result",
          "data": {
            "text/plain": [
              "{'a', 'b', 'c'}"
            ]
          },
          "metadata": {},
          "execution_count": 72
        }
      ]
    },
    {
      "cell_type": "markdown",
      "source": [
        "# 17. Write a code to clear all elements from the set {1, 2, 3, 4, 5}."
      ],
      "metadata": {
        "id": "7pI1oEyTg2gY"
      }
    },
    {
      "cell_type": "code",
      "source": [
        "set = {1, 2, 3, 4, 5}\n",
        "set.clear()\n",
        "set"
      ],
      "metadata": {
        "colab": {
          "base_uri": "https://localhost:8080/"
        },
        "id": "vOR-sYUSgpcg",
        "outputId": "7a2f2066-b2ed-43fb-9aab-12299cd98259"
      },
      "execution_count": null,
      "outputs": [
        {
          "output_type": "execute_result",
          "data": {
            "text/plain": [
              "set()"
            ]
          },
          "metadata": {},
          "execution_count": 34
        }
      ]
    },
    {
      "cell_type": "markdown",
      "source": [
        "# 18. Write a code to remove the element 4 from the set {1, 2, 3, 4}."
      ],
      "metadata": {
        "id": "A6oXV7LYhHU4"
      }
    },
    {
      "cell_type": "code",
      "source": [
        "set = {1, 2, 3, 4}\n",
        "set.remove(4)\n",
        "set"
      ],
      "metadata": {
        "colab": {
          "base_uri": "https://localhost:8080/"
        },
        "id": "4hNVoa6xhE0r",
        "outputId": "22022b49-04a7-426d-e4ca-9b9e72beecbb"
      },
      "execution_count": null,
      "outputs": [
        {
          "output_type": "execute_result",
          "data": {
            "text/plain": [
              "{1, 2, 3}"
            ]
          },
          "metadata": {},
          "execution_count": 35
        }
      ]
    },
    {
      "cell_type": "markdown",
      "source": [
        "# 19.  Write a code to find the union of two sets {1, 2, 3} and {3, 4, 5}.\n"
      ],
      "metadata": {
        "id": "USkNHYennslP"
      }
    },
    {
      "cell_type": "code",
      "source": [
        "num1 = {1, 2, 3}\n",
        "num2 = {3, 4, 5}\n",
        "num1.union(num2)"
      ],
      "metadata": {
        "colab": {
          "base_uri": "https://localhost:8080/"
        },
        "id": "s9kRYZ4ohg9j",
        "outputId": "3a0fa4a0-fe62-4421-f090-c4dc5db2edc1"
      },
      "execution_count": null,
      "outputs": [
        {
          "output_type": "execute_result",
          "data": {
            "text/plain": [
              "{1, 2, 3, 4, 5}"
            ]
          },
          "metadata": {},
          "execution_count": 36
        }
      ]
    },
    {
      "cell_type": "markdown",
      "source": [
        "# 20. Write a code to find the intersection of two sets {1, 2, 3} and {2, 3, 4}."
      ],
      "metadata": {
        "id": "MAuhereSoLLo"
      }
    },
    {
      "cell_type": "code",
      "source": [
        "num1 = {1, 2, 3}\n",
        "num2 = {3, 4, 5}\n",
        "num1.intersection(num2)"
      ],
      "metadata": {
        "colab": {
          "base_uri": "https://localhost:8080/"
        },
        "id": "sytrhVvooJq9",
        "outputId": "a53b1acb-c101-45fd-8958-11f7ada3cf21"
      },
      "execution_count": null,
      "outputs": [
        {
          "output_type": "execute_result",
          "data": {
            "text/plain": [
              "{3}"
            ]
          },
          "metadata": {},
          "execution_count": 37
        }
      ]
    },
    {
      "cell_type": "markdown",
      "source": [
        "# 21.  Write a code to create a dictionary with the keys \"name\", \"age\", and \"city\", and print it."
      ],
      "metadata": {
        "id": "mdlpiS4fobfm"
      }
    },
    {
      "cell_type": "code",
      "source": [
        "person = {\"name\": \"Ayushi\",\n",
        "    \"age\": 21,\n",
        "    \"city\": \"Lucknow\"}\n",
        "print(person)"
      ],
      "metadata": {
        "colab": {
          "base_uri": "https://localhost:8080/"
        },
        "id": "IILcJJkUoaST",
        "outputId": "19e6a71f-b4b5-4ae2-962f-43be8393aa8c"
      },
      "execution_count": null,
      "outputs": [
        {
          "output_type": "stream",
          "name": "stdout",
          "text": [
            "{'name': 'Ayushi', 'age': 21, 'city': 'Lucknow'}\n"
          ]
        }
      ]
    },
    {
      "cell_type": "markdown",
      "source": [
        "# 22.  Write a code to add a new key-value pair \"country\": \"USA\" to the dictionary {'name': 'John', 'age': 25}."
      ],
      "metadata": {
        "id": "n9WF0Za4o8Dq"
      }
    },
    {
      "cell_type": "code",
      "source": [
        "person = {'name': 'John', 'age': 25}\n",
        "person[\"country\"] = \"USA\"\n",
        "person"
      ],
      "metadata": {
        "colab": {
          "base_uri": "https://localhost:8080/"
        },
        "id": "LamuwaZSo6CP",
        "outputId": "7c6aa176-25cb-42e7-d8c5-6e4224889505"
      },
      "execution_count": null,
      "outputs": [
        {
          "output_type": "execute_result",
          "data": {
            "text/plain": [
              "{'name': 'John', 'age': 25, 'country': 'USA'}"
            ]
          },
          "metadata": {},
          "execution_count": 39
        }
      ]
    },
    {
      "cell_type": "markdown",
      "source": [
        "# 23.  Write a code to access the value associated with the key \"name\" in the dictionary {'name': 'Alice', 'age': 30}."
      ],
      "metadata": {
        "id": "FPH5XuSipTVD"
      }
    },
    {
      "cell_type": "code",
      "source": [
        "d = {\"name\": \"Alice\", \"age\":30}\n",
        "d[\"name\"]"
      ],
      "metadata": {
        "colab": {
          "base_uri": "https://localhost:8080/",
          "height": 36
        },
        "id": "zQ-hz2yJpSET",
        "outputId": "140c9ade-2f14-48e4-a3af-d335c550f1ae"
      },
      "execution_count": null,
      "outputs": [
        {
          "output_type": "execute_result",
          "data": {
            "text/plain": [
              "'Alice'"
            ],
            "application/vnd.google.colaboratory.intrinsic+json": {
              "type": "string"
            }
          },
          "metadata": {},
          "execution_count": 46
        }
      ]
    },
    {
      "cell_type": "markdown",
      "source": [
        "# 24. Write a code to remove the key \"age\" from the dictionary {'name': 'Bob', 'age': 22, 'city': 'New York'}."
      ],
      "metadata": {
        "id": "9whKp50tqA2X"
      }
    },
    {
      "cell_type": "code",
      "source": [
        "d = {'name': 'Bob', 'age': 22, 'city': 'New York'}\n",
        "d.pop(\"age\")\n",
        "d"
      ],
      "metadata": {
        "colab": {
          "base_uri": "https://localhost:8080/"
        },
        "id": "8TAJvmLgpo8C",
        "outputId": "2d94ca7b-a342-45d3-d311-0efd47e7ddbb"
      },
      "execution_count": null,
      "outputs": [
        {
          "output_type": "execute_result",
          "data": {
            "text/plain": [
              "{'name': 'Bob', 'city': 'New York'}"
            ]
          },
          "metadata": {},
          "execution_count": 47
        }
      ]
    },
    {
      "cell_type": "markdown",
      "source": [
        "# 25.  Write a code to check if the key \"city\" exists in the dictionary {'name': 'Alice', 'city': 'Paris'}."
      ],
      "metadata": {
        "id": "U20FaRXFqOOC"
      }
    },
    {
      "cell_type": "code",
      "source": [
        "d = {\"name\": \"Alice\", \"city\": \"Paris\"}\n",
        "if \"city\" in d:\n",
        "    print(\"yes\")"
      ],
      "metadata": {
        "colab": {
          "base_uri": "https://localhost:8080/"
        },
        "id": "sj-ALixfqMpn",
        "outputId": "0778c0f0-6ab6-4e34-e209-375e8dd8a85a"
      },
      "execution_count": null,
      "outputs": [
        {
          "output_type": "stream",
          "name": "stdout",
          "text": [
            "yes\n"
          ]
        }
      ]
    },
    {
      "cell_type": "markdown",
      "source": [
        "# 26. Write a code to create a list, a tuple, and a dictionary, and print them all.\n",
        "\n"
      ],
      "metadata": {
        "id": "HjurYC5_qYxw"
      }
    },
    {
      "cell_type": "code",
      "source": [
        "lis = [1, 2, 3, 4, 5]\n",
        "print(lis)\n",
        "my_tuple = (100, 200, 300)\n",
        "print(my_tuple)\n",
        "person = {\"name\": \"Ayushi\",\n",
        "    \"age\": 21,\n",
        "    \"city\": \"Lucknow\"}\n",
        "print(person)"
      ],
      "metadata": {
        "colab": {
          "base_uri": "https://localhost:8080/"
        },
        "id": "c6w2QUkjqXQj",
        "outputId": "1148c161-e49e-41cd-9c49-ffb674828a5d"
      },
      "execution_count": null,
      "outputs": [
        {
          "output_type": "stream",
          "name": "stdout",
          "text": [
            "[1, 2, 3, 4, 5]\n",
            "(100, 200, 300)\n",
            "{'name': 'Ayushi', 'age': 21, 'city': 'Lucknow'}\n"
          ]
        }
      ]
    },
    {
      "cell_type": "markdown",
      "source": [
        "# 27. Write a code to create a list of 5 random numbers between 1 and 100, sort it in ascending order, and print the result.(replaced)\n",
        "\n"
      ],
      "metadata": {
        "id": "tRCtr4qaq5iJ"
      }
    },
    {
      "cell_type": "code",
      "source": [
        "import random\n",
        "\n",
        "numbers = []\n",
        "\n",
        "for _ in range(5):\n",
        "    num = random.randint(1, 100)\n",
        "    numbers.append(num)\n",
        "\n",
        "numbers.sort()\n",
        "\n",
        "print(\"Sorted numbers:\", numbers)"
      ],
      "metadata": {
        "colab": {
          "base_uri": "https://localhost:8080/"
        },
        "id": "rodesId5vOsN",
        "outputId": "20d46162-0a68-4f55-be1c-e3e2b99ee216"
      },
      "execution_count": null,
      "outputs": [
        {
          "output_type": "stream",
          "name": "stdout",
          "text": [
            "Sorted numbers: [8, 30, 37, 37, 70]\n"
          ]
        }
      ]
    },
    {
      "cell_type": "markdown",
      "source": [
        "# 28. Write a code to create a list with strings and print the element at the third index.\n"
      ],
      "metadata": {
        "id": "2c1ae5r4rexG"
      }
    },
    {
      "cell_type": "code",
      "source": [
        "list = [\"punnu\", \"mussu\", \"kussu\"]\n",
        "list[2]"
      ],
      "metadata": {
        "colab": {
          "base_uri": "https://localhost:8080/",
          "height": 36
        },
        "id": "mypqDLvrrViv",
        "outputId": "3ad1eb7d-7b04-4dab-8ef5-8aef58bb53f2"
      },
      "execution_count": null,
      "outputs": [
        {
          "output_type": "execute_result",
          "data": {
            "text/plain": [
              "'kussu'"
            ],
            "application/vnd.google.colaboratory.intrinsic+json": {
              "type": "string"
            }
          },
          "metadata": {},
          "execution_count": 52
        }
      ]
    },
    {
      "cell_type": "markdown",
      "source": [
        "# 29.  Write a code to combine two dictionaries into one and print the result.\n",
        "\n"
      ],
      "metadata": {
        "id": "Y3hfxgrhr0p4"
      }
    },
    {
      "cell_type": "code",
      "source": [
        "dict1 = {\"name\": \"ayush\", \"age\": 21}\n",
        "dict2 = {\"city\": \"Lucknow\", \"state\": \"Uttar Pradesh\"}\n",
        "dict1.update(dict2)\n",
        "dict1\n"
      ],
      "metadata": {
        "colab": {
          "base_uri": "https://localhost:8080/"
        },
        "id": "wm8lMqlMroNO",
        "outputId": "b17aa69b-a229-4746-beab-e584cc91f38a"
      },
      "execution_count": null,
      "outputs": [
        {
          "output_type": "execute_result",
          "data": {
            "text/plain": [
              "{'name': 'ayush', 'age': 21, 'city': 'Lucknow', 'state': 'Uttar Pradesh'}"
            ]
          },
          "metadata": {},
          "execution_count": 59
        }
      ]
    },
    {
      "cell_type": "markdown",
      "source": [
        "# 30. Write a code to convert a list of strings into a set."
      ],
      "metadata": {
        "id": "4zLNiEu7s0UD"
      }
    },
    {
      "cell_type": "code",
      "source": [
        "my_list = [\"apple\", \"banana\", \"mango\", \"apple\", \"banana\"]\n",
        "my_set = set(my_list)\n",
        "my_set\n"
      ],
      "metadata": {
        "id": "OeUZRT9s2V8x",
        "colab": {
          "base_uri": "https://localhost:8080/"
        },
        "outputId": "69308467-4097-41f8-8a5f-8eac5fc3b472"
      },
      "execution_count": 1,
      "outputs": [
        {
          "output_type": "execute_result",
          "data": {
            "text/plain": [
              "{'apple', 'banana', 'mango'}"
            ]
          },
          "metadata": {},
          "execution_count": 1
        }
      ]
    }
  ]
}